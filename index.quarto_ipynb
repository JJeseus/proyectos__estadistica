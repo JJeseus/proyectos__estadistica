{
  "cells": [
    {
      "cell_type": "markdown",
      "metadata": {},
      "source": [
        "---\n",
        "title: \"Ejemplo\"\n",
        "format:\n",
        "  html:\n",
        "    css: styles.css\n",
        "    html-math-method: mathjax\n",
        "fenced-divs: true\n",
        "---\n",
        "\n",
        "\n",
        "\n",
        "\n",
        "\n",
        "::: {.hero}\n",
        "# 📘 Estadística Aplicada para Ingeniería\n",
        "Un laboratorio digital donde **la teoría se encuentra con la práctica**.\n",
        "\n",
        "[🚀 Comenzar](modulos/01_fundamentos.qmd){.btn .btn-primary}\n",
        "[📂 Ver Secciones](#secciones){.btn .btn-secondary}\n",
        ":::\n",
        "\n",
        "## 🔎 Secciones {#secciones}\n",
        "\n",
        "\n",
        "\n",
        "\n",
        "```{markdown}\n",
        "<div class=\"cards\">\n",
        "\n",
        "  <div class=\"card\">\n",
        "    <h3>📊 Fundamentos</h3>\n",
        "    <p>Probabilidad, estimación y control estadístico.</p>\n",
        "    <a href=\"modulos/01_fundamentos.qmd\">Entrar →</a>\n",
        "  </div>\n",
        "\n",
        "  <div class=\"card\">\n",
        "    <h3>📈 Regresión / ANOVA</h3>\n",
        "    <p>Modelado, inferencia y contrastes.</p>\n",
        "    <a href=\"modulos/06_regresion.qmd\">Explorar →</a>\n",
        "  </div>\n",
        "\n",
        "  <div class=\"card\">\n",
        "    <h3>📉 CEP / SPC</h3>\n",
        "    <p>Capacidad, control de procesos y gráficos.</p>\n",
        "    <a href=\"modulos/07_spc.qmd\">Ver →</a>\n",
        "  </div>\n",
        "\n",
        "</div>\n",
        "```"
      ],
      "id": "2babf4b2"
    }
  ],
  "metadata": {
    "kernelspec": {
      "display_name": "Python 3",
      "language": "python",
      "name": "python3"
    }
  },
  "nbformat": 4,
  "nbformat_minor": 5
}